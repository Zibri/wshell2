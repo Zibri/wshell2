%%shell
wget -q "$(curl -s -I https://github.com/cloudflare/cloudflared/releases/latest|grep location|cut -d" " -f 2|tr -d "\r"|sed s/tag/download/)/cloudflared-fips-linux-amd64" -O cloudflared
chmod a+x cloudflared
apt &>/dev/null install -y lighttpd
cat >l.conf <<EOF
server.dir-listing = "enable"
server.document-root = "/root"
server.port = 8899
EOF
lighttpd -f l.conf
./cloudflared tunnel --url http://127.0.0.1:8899 &>c.log &
sleep 6
grep "  https" c.log |cut -d " " -f 5
cd ~
git clone https://github.com/Zibri/wshell2 &>/dev/null
cd wshell2
sed -i "s/sudo apt/echo/" trun.sh
./trun.sh
