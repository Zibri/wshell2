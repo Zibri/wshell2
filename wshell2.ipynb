{
  "cells": [
    {
      "cell_type": "code",
      "execution_count": null,
      "metadata": {
        "id": ""
      },
      "outputs": [],
      "source": [
        "%%shell\n",
        "wget -q \"$(curl -s -I https://github.com/cloudflare/cloudflared/releases/latest|grep location|cut -d\" \" -f 2|tr -d \"\\r\"|sed s/tag/download/)/cloudflared-linux-amd64\" -O cloudflared\n",
        "chmod a+x cloudflared\n",
        "apt &>/dev/null install -y lighttpd\n",
        "cat >l.conf <<EOF\n",
        "server.dir-listing = \"enable\"\n",
        "server.document-root = \"/root\"\n",
        "server.port = 8899\n",
        "EOF\n",
        "lighttpd -f l.conf\n",
        "./cloudflared tunnel --url http://127.0.0.1:8899 &>c.log &\n",
        "sleep 6\n",
        "grep \"  https\" c.log |cut -d \" \" -f 5\n",
        "cd ~\n",
        "git clone https://github.com/Zibri/wshell2 &>/dev/null\n",
        "cd wshell2/clients\n",
        "npm install &>/dev/null\n",
        "node client.js\n"
      ]
    },
    {
      "cell_type": "code",
      "execution_count": null,
      "metadata": {
        "id": "iVQxKV4z8RLW"
      },
      "outputs": [],
      "source": []
    }
  ],
  "metadata": {
    "colab": {
      "provenance": []
    },
    "kernelspec": {
      "display_name": "Python 3",
      "name": "python3"
    },
    "language_info": {
      "name": "python"
    }
  },
  "nbformat": 4,
  "nbformat_minor": 0
}
